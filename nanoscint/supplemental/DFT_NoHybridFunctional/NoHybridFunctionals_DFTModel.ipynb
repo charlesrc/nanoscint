{
 "cells": [
  {
   "cell_type": "code",
   "execution_count": 1,
   "id": "e851c3ee",
   "metadata": {},
   "outputs": [],
   "source": [
    "using PyPlot\n",
    "using PyCall\n",
    "np=pyimport(\"numpy\")\n",
    "eV = 27.2114; #Hartree to eV conversion\n",
    "rcParams = PyPlot.PyDict(PyPlot.matplotlib.\"rcParams\")\n",
    "rcParams[\"font.size\"] = 15\n",
    "rcParams[\"legend.fontsize\"] = \"small\"\n",
    "rcParams[\"axes.labelsize\"] = \"xx-large\"\n",
    "rcParams[\"axes.titlesize\"] = \"xx-large\"\n",
    "rcParams[\"xtick.labelsize\"] = \"xx-large\"\n",
    "rcParams[\"ytick.labelsize\"] = \"xx-large\"\n",
    "rcParams[\"font.sans-serif\"] = \"Arial\"\n",
    "rcParams[\"font.family\"] = \"sans-serif\"\n",
    "rcParams[\"figure.figsize\"] = (6, 6);"
   ]
  },
  {
   "cell_type": "code",
   "execution_count": 2,
   "id": "fc7c6914",
   "metadata": {},
   "outputs": [],
   "source": [
    "dir_nohybrid = string(pwd(), \"/nohybrid\");"
   ]
  },
  {
   "cell_type": "code",
   "execution_count": 291,
   "id": "a4aef175",
   "metadata": {},
   "outputs": [],
   "source": [
    "#=#Loop over all simulations and store the band indices and oscillator strengths corresponding to the \n",
    "#relevant green and red transitions. \n",
    "\n",
    "AllValidPairsGreen = Vector{Tuple{String, Vector{Tuple{Integer, Integer, Float64}}}}()\n",
    "# Vector of tuples of the form: (ID, (lowerband, upperband, oscillator strength))\n",
    "\n",
    "AllValidPairsRed = Vector{Tuple{String, Vector{Tuple{Integer, Integer, Float64}}}}()\n",
    "# Vector of tuples of the form: (ID, (lowerband, upperband, oscillator strength))\n",
    "\n",
    "eigenvalsup = Float64[]\n",
    "eigenvalsdn= Float64[]\n",
    "\n",
    "momenta = ComplexF64[] #Note that the momentum matrix elements are complex though we only need their absolute values \n",
    "#in the end since we have no phase interfering terms. \n",
    "transitioneigenvals = Float64[]\n",
    "\n",
    "for (i, j) in Tuple.(CartesianIndices(rand(4, 5)))\n",
    "    id=\"$(i)$(j)\"\n",
    "    μ=0 \n",
    "\n",
    "    try #The try catch block exists in case there are files that don't exist or we decided to disregard and got rid of \n",
    "        for l in readlines(\"$dir_nohybrid/STH2$(id).eigStats\")\n",
    "            if VERSION.minor >= 5  \n",
    "                contains(l, \"mu\" ) || continue ;\n",
    "            elseif VERSION.minor < 5\n",
    "                occursin(\"mu\", l) || continue ;\n",
    "            end\n",
    "            μ = parse(Float64, l[6:end]);\n",
    "        end\n",
    "        \n",
    "        eigenvalsup = np.fromfile(\"$dir_nohybrid/STH2$(id).eigenvals\")[1:48]*eV\n",
    "        eigenvalsdn = np.fromfile(\"$dir_nohybrid/STH2$(id).eigenvals\")[49:96]*eV\n",
    "        up = eigenvalsup[28] > μ*eV\n",
    "        down = eigenvalsdn[28] > μ*eV\n",
    "        (up && down) && error(\"Something Went Wrong\")\n",
    "        transitioneigenvals = up ? eigenvalsup : eigenvalsdn\n",
    "        momenta = np.reshape(abs.(np.fromfile(\"$dir_nohybrid/STH2$(id).momenta\", dtype=np.complex )), (2, 3, 48, 48));\n",
    "    catch\n",
    "        continue\n",
    "    end\n",
    "    (permutedims(momenta, (1, 2, 4, 3)) ≈ conj(momenta)) || error(\"Momenta Do Not Satisfy Hermiticity Condition\")\n",
    "    ValidPairsUpGreen = Vector{Tuple{Integer, Integer, Float64}}() \n",
    "    for (i, e) in enumerate(transitioneigenvals)\n",
    "        for (j, eprime) in enumerate(transitioneigenvals)\n",
    "            (e < μ*eV  && eprime < μ*eV) && continue\n",
    "            (e > μ*eV  && eprime > μ*eV) && continue\n",
    "            ((j, i) in [v[1:2] for v in ValidPairsUpGreen]) && continue\n",
    "            2.1 < abs(e-eprime) < 2.3  || continue\n",
    "            #Note that we must convert back from eV to hartree, so the denominator is divided by 27.2\n",
    "            push!(ValidPairsUpGreen, (i, j, eV*2/3*sum((abs.(momenta[1, :, i, j])).^2)/abs(e-eprime) ))\n",
    "        end\n",
    "    end\n",
    "    #Find pairs of bands that give us the range of eigenvalues we desire: \n",
    "    ValidPairsUpRed = Vector{Tuple{Integer, Integer, Float64}}() \n",
    "    for (i, e) in enumerate(transitioneigenvals)\n",
    "        for (j, eprime) in enumerate(transitioneigenvals)\n",
    "            (e < μ*eV  && eprime < μ*eV) && continue\n",
    "            (e > μ*eV  && eprime > μ*eV) && continue\n",
    "            ((j, i) in [v[1:2] for v in ValidPairsUpRed]) && continue\n",
    "            1.7 < abs(e-eprime) < 1.9  || continue\n",
    "            push!(ValidPairsUpRed, (i, j, eV*2/3*sum((abs.(momenta[1, :, i, j])).^2)/abs(e-eprime)))\n",
    "        end\n",
    "    end\n",
    "    push!(AllValidPairsGreen, (id, ValidPairsUpGreen))\n",
    "    push!(AllValidPairsRed, (id, ValidPairsUpRed))\n",
    "\n",
    "end\n",
    "=#"
   ]
  },
  {
   "cell_type": "code",
   "execution_count": 292,
   "id": "b1d5f35d",
   "metadata": {},
   "outputs": [],
   "source": [
    "#=OscillatorStrengthsGreen = Float64[] #Vectors of the maximum oscillator strengths for the maximum oscillator strength transitions\n",
    "OscillatorStrengthsRed = Float64[] #For the green and red transitions respectively\n",
    "\n",
    "for (ValidPairsUpGreen, ValidPairsUpRed) in zip(AllValidPairsGreen, AllValidPairsRed)\n",
    "    id = ValidPairsUpGreen[1]\n",
    "    # id \"41\" seems closest to experimentally reported spectrum\n",
    "    id == \"41\" || continue\n",
    "    println(id)\n",
    "    eigenvalsup = np.fromfile(\"$dir_nohybrid/STH2$(id).eigenvals\")[1:48]*eV\n",
    "    eigenvalsdn = np.fromfile(\"$dir_nohybrid/STH2$(id).eigenvals\")[49:96]*eV\n",
    "\n",
    "    maxgreen = argmax([v[3] for v in ValidPairsUpGreen[2]])\n",
    "    maxred = argmax([v[3] for v in ValidPairsUpRed[2]])\n",
    "    println(\"Max Green Oscillator Strength: \", [v[3] for v in ValidPairsUpGreen[2]][maxgreen])\n",
    "    println(\"Max Red Oscillator Strength: \", [v[3] for v in ValidPairsUpRed[2]][maxred])\n",
    "    \n",
    "    push!(OscillatorStrengthsGreen, [v[3] for v in ValidPairsUpGreen[2]][maxgreen])\n",
    "    push!(OscillatorStrengthsRed, [v[3] for v in ValidPairsUpRed[2]][maxred])\n",
    "\n",
    "    greenplots = plot()\n",
    "\n",
    "    for i in 1:48\n",
    "        (i == ValidPairsUpGreen[2][maxgreen][1]) ? plot(reshape(np.repeat(eigenvalsup[i], 10), (10, 1)), color=\"black\", linewidth=5) : plot(reshape(np.repeat(eigenvalsup[i], 10), (10, 1)), color=\"blue\", linewidth=.4);\n",
    "        (i == ValidPairsUpGreen[2][maxgreen][2]) ? plot(reshape(np.repeat(eigenvalsup[i], 10), (10, 1)), color=\"green\", linewidth=5) : plot(reshape(np.repeat(eigenvalsup[i], 10), (10, 1)), color=\"blue\", linewidth=.4);\n",
    "    end\n",
    "    ylim(-20, -10)\n",
    "    ylabel(\"Energy (eV)\")\n",
    "\n",
    "    redplots=plot()\n",
    "    for i in 1:48\n",
    "        (i == ValidPairsUpRed[2][maxred][1]) ? plot(reshape(np.repeat(eigenvalsup[i], 10), (10, 1)), color=\"black\", linewidth=5) : plot(reshape(np.repeat(eigenvalsup[i], 10), (10, 1)), color=\"blue\", linewidth=.4);\n",
    "        (i == ValidPairsUpRed[2][maxred][2]) ? plot(reshape(np.repeat(eigenvalsup[i], 10), (10, 1)), color=\"red\", linewidth=5) : plot(reshape(np.repeat(eigenvalsup[i], 10), (10, 1)), color=\"blue\", linewidth=.4);\n",
    "    end\n",
    "    ylim(-20, -10)\n",
    "    μ=0 \n",
    "    for l in readlines(\"$dir_nohybrid/STH2$(id).eigStats\")\n",
    "        if VERSION.minor >= 5  \n",
    "            contains(l, \"mu\" ) || continue ;\n",
    "        elseif VERSION.minor < 5\n",
    "            occursin(\"mu\", l) || continue ;\n",
    "        end\n",
    "        μ = parse(Float64, l[6:end]);\n",
    "    end\n",
    "    FSTH2=zeros(100*30)\n",
    "    energies = collect(range(0, 30, length=3000))\n",
    "    lambdas = 1240 ./ collect(range(1, 30, length=3000))\n",
    "    broadening=0.1\n",
    "    for e1iter in 1:48\n",
    "        for e2iter in 1:48\n",
    "            eigup2 = eigenvalsup[e2iter]\n",
    "            eigup1 = eigenvalsup[e1iter]\n",
    "            eigdn2 = eigenvalsdn[e2iter]\n",
    "            eigdn1 = eigenvalsdn[e1iter]\n",
    "            ediffup = (eigup2-eigup1)\n",
    "            ediffdn = (eigdn2-eigdn1)\n",
    "            momentaup_squared = sum((abs.(momenta[1, :, e1iter, e2iter])).^2)\n",
    "            momentadn_squared = sum((abs.(momenta[2, :, e1iter, e2iter])).^2)\n",
    "            f = (1-np.heaviside(μ*eV-eigup2, 0.5))*(np.heaviside(μ*eV-eigup1, 0.5))\n",
    "            !(f ≈ 0) && (f *= 2/3*(1/ediffup)*(momentaup_squared))\n",
    "            FSTH2 += f*exp.(-0.5*(energies.-ediffup).^2/(broadening)^2)\n",
    "            f = (1-np.heaviside(μ*eV-eigdn2, 0.5))*(np.heaviside(μ*eV-eigdn1, 0.5))\n",
    "            !(f ≈ 0) && (f *= 2/3*(1/ediffdn)*(momentadn_squared))\n",
    "            FSTH2 += f*exp.(-0.5*(energies.-ediffdn).^2/(broadening)^2)\n",
    "        end\n",
    "    end\n",
    "    FSTH2 *= eV\n",
    "    \n",
    "    xticks([])\n",
    "    \n",
    "    figure()\n",
    "    plot(lambdas, FSTH2)\n",
    "    ylabel(\"Oscillator strength (a.u.)\")\n",
    "    xlabel(\"Wavelength (nm)\")\n",
    "    xlim(400,800)\n",
    "    ylim(0, 0.5)\n",
    "end=#"
   ]
  },
  {
   "cell_type": "code",
   "execution_count": 293,
   "id": "666c4361",
   "metadata": {},
   "outputs": [
    {
     "data": {
      "text/plain": [
       "-0.395651"
      ]
     },
     "execution_count": 293,
     "metadata": {},
     "output_type": "execute_result"
    }
   ],
   "source": [
    "μ=parse(Float64, split(readlines(`cat nohybrid/STH241.eigStats`)[3])[3])"
   ]
  },
  {
   "cell_type": "code",
   "execution_count": 294,
   "id": "26e46a3a",
   "metadata": {},
   "outputs": [
    {
     "data": {
      "image/png": "[encoded data removed]",
      "text/plain": [
       "Figure(PyObject <Figure size 600x600 with 1 Axes>)"
      ]
     },
     "metadata": {},
     "output_type": "display_data"
    },
    {
     "data": {
      "text/plain": [
       "(0.0, 0.5)"
      ]
     },
     "execution_count": 294,
     "metadata": {},
     "output_type": "execute_result"
    }
   ],
   "source": [
    "eigenvalsup = np.fromfile(\"$dir_nohybrid/STH2$(41).eigenvals\")[1:48]*eV\n",
    "eigenvalsdn = np.fromfile(\"$dir_nohybrid/STH2$(41).eigenvals\")[49:96]*eV\n",
    "FSTH2=zeros(100*30)\n",
    "energies = collect(range(0, 30, length=3000))\n",
    "lambdas = 1240 ./ collect(range(1, 30, length=3000))\n",
    "broadening=0.1\n",
    "for (e1iter, e2iter) in Tuple.(CartesianIndices(rand(48, 48))) \n",
    "    eigup2 = eigenvalsup[e2iter]\n",
    "    eigup1 = eigenvalsup[e1iter]\n",
    "    eigdn2 = eigenvalsdn[e2iter]\n",
    "    eigdn1 = eigenvalsdn[e1iter]\n",
    "    ediffup = (eigup2-eigup1)\n",
    "    ediffdn = (eigdn2-eigdn1)\n",
    "    momentaup_squared = sum((abs.(momenta[1, :, e1iter, e2iter])).^2)\n",
    "    momentadn_squared = sum((abs.(momenta[2, :, e1iter, e2iter])).^2)\n",
    "    f = (1-np.heaviside(μ*eV-eigup2, 0.5))*(np.heaviside(μ*eV-eigup1, 0.5))\n",
    "    !(f ≈ 0) && (f *= 2/3*(1/ediffup)*(momentaup_squared))\n",
    "    FSTH2 += f*exp.(-0.5*(energies.-ediffup).^2/(broadening)^2)\n",
    "    f = (1-np.heaviside(μ*eV-eigdn2, 0.5))*(np.heaviside(μ*eV-eigdn1, 0.5))\n",
    "    !(f ≈ 0) && (f *= 2/3*(1/ediffdn)*(momentadn_squared))\n",
    "    FSTH2 += f*exp.(-0.5*(energies.-ediffdn).^2/(broadening)^2)\n",
    "end\n",
    "\n",
    "FSTH2 *= eV\n",
    "plot(lambdas, FSTH2, linewidth=5)\n",
    "ylabel(\"Oscillator strength (a.u.)\")\n",
    "xlabel(\"Wavelength (nm)\")\n",
    "xlim(400,800)\n",
    "ylim(0, 0.5)\n"
   ]
  },
  {
   "cell_type": "code",
   "execution_count": 296,
   "id": "34040396",
   "metadata": {},
   "outputs": [],
   "source": [
    "Pairsup_green = Vector{Tuple{Integer, Integer, Float64}}()\n",
    "Pairsdn_green = Vector{Tuple{Integer, Integer, Float64}}()\n",
    "\n",
    "Pairsup_red = Vector{Tuple{Integer, Integer, Float64}}()\n",
    "Pairsdn_red = Vector{Tuple{Integer, Integer, Float64}}()\n",
    "\n",
    "for e1iter in 10:16\n",
    "    for e2iter in 10:28\n",
    "        (e2iter == e1iter) && continue\n",
    "        eigup2 = eigenvalsup[e2iter]\n",
    "        eigup1 = eigenvalsup[e1iter]\n",
    "        eigdn2 = eigenvalsdn[e2iter]\n",
    "        eigdn1 = eigenvalsdn[e1iter]\n",
    "        ediffup = (eigup2-eigup1)\n",
    "        ediffdn = (eigdn2-eigdn1)\n",
    "        momentaup_squared = sum((abs.(momenta[1, :, e1iter, e2iter])).^2)\n",
    "        momentadn_squared = sum((abs.(momenta[2, :, e1iter, e2iter])).^2)\n",
    "        f = 2/3*(1/ediffup)*(momentaup_squared)\n",
    "        (isless(1.7, ediffup) &&  isless(ediffup, 1.9)) && push!(Pairsup_red, (e1iter, e2iter, f))\n",
    "        (isless(2.1, ediffup) &&  isless(ediffup, 2.3)) && push!(Pairsup_green, (e1iter, e2iter, f))\n",
    "        f = 2/3*(1/ediffdn)*(momentadn_squared)\n",
    "        (isless(1.7, ediffdn) &&  isless(ediffup, 1.9)) && push!(Pairsdn_red, (e1iter, e2iter, f))\n",
    "        (isless(2.1, ediffdn) &&  isless(ediffup, 2.3)) && push!(Pairsdn_green, (e1iter, e2iter, f))\n",
    "    end\n",
    "end\n"
   ]
  },
  {
   "cell_type": "code",
   "execution_count": 297,
   "id": "a0b8bb07",
   "metadata": {},
   "outputs": [
    {
     "data": {
      "text/plain": [
       "3"
      ]
     },
     "execution_count": 297,
     "metadata": {},
     "output_type": "execute_result"
    }
   ],
   "source": [
    "pairsup_red_max_idx = argmax([p[3] for p in Pairsup_red])\n",
    "pairsdn_red_max_idx = argmax([p[3] for p in Pairsdn_red])\n",
    "pairsup_green_max_idx = argmax([p[3] for p in Pairsup_green])\n",
    "pairsdn_green_max_idx = argmax([p[3] for p in Pairsdn_green])"
   ]
  },
  {
   "cell_type": "code",
   "execution_count": 298,
   "id": "35ffee40",
   "metadata": {},
   "outputs": [
    {
     "data": {
      "text/plain": [
       "(11, 17, 0.002832311160177203)"
      ]
     },
     "execution_count": 298,
     "metadata": {},
     "output_type": "execute_result"
    }
   ],
   "source": [
    "Pairsup_red[pairsup_red_max_idx]"
   ]
  },
  {
   "cell_type": "code",
   "execution_count": 299,
   "id": "37388d39",
   "metadata": {},
   "outputs": [
    {
     "data": {
      "text/plain": [
       "(11, 17, 0.002092524537558207)"
      ]
     },
     "execution_count": 299,
     "metadata": {},
     "output_type": "execute_result"
    }
   ],
   "source": [
    "Pairsdn_red[pairsdn_red_max_idx]"
   ]
  },
  {
   "cell_type": "code",
   "execution_count": 300,
   "id": "6af9774d",
   "metadata": {},
   "outputs": [
    {
     "data": {
      "text/plain": [
       "(10, 18, 0.0009202953705559318)"
      ]
     },
     "execution_count": 300,
     "metadata": {},
     "output_type": "execute_result"
    }
   ],
   "source": [
    "Pairsup_green[pairsup_green_max_idx]"
   ]
  },
  {
   "cell_type": "code",
   "execution_count": 301,
   "id": "8ddd9c7d",
   "metadata": {},
   "outputs": [
    {
     "data": {
      "text/plain": [
       "(14, 23, 0.0009489456353023339)"
      ]
     },
     "execution_count": 301,
     "metadata": {},
     "output_type": "execute_result"
    }
   ],
   "source": [
    "Pairsdn_green[pairsdn_green_max_idx]"
   ]
  },
  {
   "cell_type": "code",
   "execution_count": 302,
   "id": "a8fcaf56",
   "metadata": {},
   "outputs": [
    {
     "data": {
      "image/png": "[encoded data removed]",
      "text/plain": [
       "Figure(PyObject <Figure size 600x600 with 1 Axes>)"
      ]
     },
     "metadata": {},
     "output_type": "display_data"
    },
    {
     "data": {
      "text/plain": [
       "(-20.0, -10.0)"
      ]
     },
     "execution_count": 302,
     "metadata": {},
     "output_type": "execute_result"
    }
   ],
   "source": [
    "plot(np.repeat(eigenvalsup[11], 10), color=\"black\")\n",
    "plot(np.repeat(eigenvalsup[17], 10), color=\"red\")\n",
    "plot(np.repeat(eigenvalsup[10], 10), color=\"black\")\n",
    "plot(np.repeat(eigenvalsup[18], 10), color=\"green\")\n",
    "for i in 1:48\n",
    "    i == 11 && continue\n",
    "    i == 17 && continue\n",
    "    i == 10 && continue\n",
    "    i == 18 && continue\n",
    "    plot(np.repeat(eigenvalsup[i], 10), color=\"black\", linewidth=0.4)\n",
    "end\n",
    "ylim(-20, -10)"
   ]
  },
  {
   "cell_type": "code",
   "execution_count": null,
   "id": "82993e52",
   "metadata": {},
   "outputs": [],
   "source": []
  }
 ],
 "metadata": {
  "@webio": {
   "lastCommId": null,
   "lastKernelId": null
  },
  "kernelspec": {
   "display_name": "Julia MyKernel 1.6.1",
   "language": "julia",
   "name": "julia-mykernel-1.6"
  },
  "language_info": {
   "file_extension": ".jl",
   "mimetype": "application/julia",
   "name": "julia",
   "version": "1.6.1"
  },
  "latex_envs": {
   "LaTeX_envs_menu_present": true,
   "autoclose": false,
   "autocomplete": true,
   "bibliofile": "biblio.bib",
   "cite_by": "apalike",
   "current_citInitial": 1,
   "eqLabelWithNumbers": true,
   "eqNumInitial": 1,
   "hotkeys": {
    "equation": "Ctrl-E",
    "itemize": "Ctrl-I"
   },
   "labels_anchors": false,
   "latex_user_defs": false,
   "report_style_numbering": false,
   "user_envs_cfg": false
  },
  "toc": {
   "base_numbering": 1,
   "nav_menu": {},
   "number_sections": true,
   "sideBar": true,
   "skip_h1_title": false,
   "title_cell": "Table of Contents",
   "title_sidebar": "Contents",
   "toc_cell": false,
   "toc_position": {},
   "toc_section_display": true,
   "toc_window_display": false
  },
  "varInspector": {
   "cols": {
    "lenName": 16,
    "lenType": 16,
    "lenVar": 40
   },
   "kernels_config": {
    "python": {
     "delete_cmd_postfix": "",
     "delete_cmd_prefix": "del ",
     "library": "var_list.py",
     "varRefreshCmd": "print(var_dic_list())"
    },
    "r": {
     "delete_cmd_postfix": ") ",
     "delete_cmd_prefix": "rm(",
     "library": "var_list.r",
     "varRefreshCmd": "cat(var_dic_list()) "
    }
   },
   "types_to_exclude": [
    "module",
    "function",
    "builtin_function_or_method",
    "instance",
    "_Feature"
   ],
   "window_display": false
  }
 },
 "nbformat": 4,
 "nbformat_minor": 5
}
